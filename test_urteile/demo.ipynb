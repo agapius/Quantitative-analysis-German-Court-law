{
 "cells": [
  {
   "cell_type": "code",
   "execution_count": null,
   "metadata": {},
   "outputs": [],
   "source": [
    "from datascience import *\n",
    "import numpy as np\n",
    "import re\n",
    "\n",
    "%matplotlib inline\n",
    "import matplotlib.pyplot as plots\n",
    "#plots.style.use('fivethirtyeight')"
   ]
  },
  {
   "cell_type": "code",
   "execution_count": null,
   "metadata": {},
   "outputs": [],
   "source": [
    "megasheet = Table.read_table('megasheet.csv', index_col=False)"
   ]
  },
  {
   "cell_type": "code",
   "execution_count": null,
   "metadata": {},
   "outputs": [],
   "source": [
    "megasheet"
   ]
  },
  {
   "cell_type": "code",
   "execution_count": null,
   "metadata": {},
   "outputs": [],
   "source": [
    "BGH_zitate = megasheet.group(2, sum)"
   ]
  },
  {
   "cell_type": "code",
   "execution_count": null,
   "metadata": {},
   "outputs": [],
   "source": [
    "megasheet.num_rows"
   ]
  },
  {
   "cell_type": "code",
   "execution_count": null,
   "metadata": {},
   "outputs": [],
   "source": [
    "BGH_urteile = megasheet.where('Gerichtstyp', are.equal_to('BGH'))\n",
    "BGH_urteile.num_rows"
   ]
  },
  {
   "cell_type": "markdown",
   "metadata": {},
   "source": [
    "***ZPO-Kommentare***   \n",
    "Die folgenden ZPO-Kommentare sind bisher in die Analyse mit einbezogen: Thomas/Putzo, Musielak-ZPO,\n",
    "Zöller-ZPO, Baumbach-ZPO, Wieczorek-ZPO, Prütting-ZPO, Hk-ZPO, Stein/Jonas-ZPO,Saenger-ZPO, Zimmermann-ZPO, MüKo-ZPO, BeckOK-ZPO."
   ]
  },
  {
   "cell_type": "code",
   "execution_count": null,
   "metadata": {},
   "outputs": [],
   "source": [
    "zpo_table = BGH_urteile.select(1, 2, 3, 5, 'Thomas/Putzo', 'Musielak-ZPO', 'Zöller-ZPO', 'Baumbach-ZPO', 'Wieczorek-ZPO', 'Prütting-ZPO', 'Hk-ZPO', 'Stein/Jonas-ZPO', 'Saenger-ZPO', 'Zimmermann-ZPO', 'MüKo-ZPO', 'BeckOK-ZPO')                               "
   ]
  },
  {
   "cell_type": "code",
   "execution_count": null,
   "metadata": {},
   "outputs": [],
   "source": [
    "zpo_table = zpo_table.where(2, are.not_equal_to('3. Strafsenat')).where(2, are.not_equal_to('2. Strafsenat')).where(2, are.not_equal_to('1. Strafsenat'))"
   ]
  },
  {
   "cell_type": "code",
   "execution_count": null,
   "metadata": {},
   "outputs": [],
   "source": [
    "ZPO_by_year = zpo_table.group(3, sum)\n",
    "ZPO_by_year = ZPO_by_year.drop(1, 2, 3)\n",
    "ZOPshort = ZPO_by_year.drop(0)\n",
    "ZPO_by_year"
   ]
  },
  {
   "cell_type": "code",
   "execution_count": null,
   "metadata": {},
   "outputs": [],
   "source": [
    "new = Table().with_columns([\n",
    "    'Kommentar', ['Thomas/Putzo', 'Musielak-ZPO', 'Zöller-ZPO', 'Baumbach-ZPO', 'Wieczorek-ZPO', 'Prütting-ZPO', 'Hk-ZPO', 'Stein/Jonas-ZPO', 'Saenger-ZPO', 'Zimmermann-ZPO', 'MüKo-ZPO', 'BeckOK-ZPO'],\n",
    "    '2010', [42, 151, 250, 26, 32, 45, 28, 93, 2, 1, 162, 0],\n",
    "    '2011', [51, 176, 249, 26, 42, 63, 31, 103, 17, 6, 200, 0],\n",
    "    '2012', [41, 166, 240, 25, 46, 41, 47, 108, 17, 4, 188, 26],\n",
    "    '2013', [28, 97, 180, 18, 23, 29, 45, 83, 12, 0, 144, 12],\n",
    "    '2014', [21, 104, 159, 11, 22, 29, 37, 60, 13, 0, 136, 27],\n",
    "    '2015', [38, 106, 238, 13, 39, 71, 80, 99, 9 ,2, 133, 36],\n",
    "    '2016', [24, 114, 182, 14, 67, 32, 19, 89, 17, 0, 193, 37],\n",
    "    '2017', [33, 133, 185, 21, 61, 34, 27, 90, 20, 2, 154, 56],\n",
    "])"
   ]
  },
  {
   "cell_type": "code",
   "execution_count": null,
   "metadata": {},
   "outputs": [],
   "source": [
    "g2010 = np.sum(new.column(1)) /12\n",
    "g2011 = np.sum(new.column(2)) /12\n",
    "g2012 = np.sum(new.column(3)) /12\n",
    "g2013 = np.sum(new.column(4)) /12\n",
    "g2014 = np.sum(new.column(5)) /12\n",
    "g2015 = np.sum(new.column(6)) /12\n",
    "g2016 = np.sum(new.column(7)) /12\n",
    "g2017 = np.sum(new.column(8)) /12"
   ]
  },
  {
   "cell_type": "code",
   "execution_count": null,
   "metadata": {},
   "outputs": [],
   "source": [
    "ZPO_by_year = ZPO_by_year.with_column(\n",
    "    'Schnitt', make_array(g2010, g2011, g2012, g2013, g2014, g2015, g2016, g2017, 0))\n",
    "ZPO_by_year"
   ]
  },
  {
   "cell_type": "code",
   "execution_count": null,
   "metadata": {},
   "outputs": [],
   "source": [
    "ZPO_by_year.where(0, are.between(2010, 2018)).drop('Gesamt').plot(0)"
   ]
  },
  {
   "cell_type": "code",
   "execution_count": null,
   "metadata": {},
   "outputs": [],
   "source": [
    "ZPO_by_year.where(0, are.between(2010, 2018)).select(0, 'Musielak-ZPO sum', 'Schnitt').plot(0)"
   ]
  },
  {
   "cell_type": "code",
   "execution_count": null,
   "metadata": {},
   "outputs": [],
   "source": [
    "ZPO_by_year.where(0, are.between(2010, 2018)).select(0, 12).plot(0)"
   ]
  },
  {
   "cell_type": "code",
   "execution_count": null,
   "metadata": {},
   "outputs": [],
   "source": [
    "new = new.sort('2017', descending=True)\n",
    "new.barh(0, '2017')"
   ]
  },
  {
   "cell_type": "code",
   "execution_count": null,
   "metadata": {},
   "outputs": [],
   "source": []
  },
  {
   "cell_type": "code",
   "execution_count": null,
   "metadata": {},
   "outputs": [],
   "source": []
  }
 ],
 "metadata": {
  "kernelspec": {
   "display_name": "Python 3",
   "language": "python",
   "name": "python3"
  },
  "language_info": {
   "codemirror_mode": {
    "name": "ipython",
    "version": 3
   },
   "file_extension": ".py",
   "mimetype": "text/x-python",
   "name": "python",
   "nbconvert_exporter": "python",
   "pygments_lexer": "ipython3",
   "version": "3.6.5"
  }
 },
 "nbformat": 4,
 "nbformat_minor": 2
}
